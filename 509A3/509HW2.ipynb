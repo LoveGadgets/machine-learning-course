{
 "cells": [
  {
   "cell_type": "code",
   "execution_count": 4,
   "metadata": {},
   "outputs": [],
   "source": [
    "import numpy as np\n",
    "import pandas as pd\n",
    "import re\n",
    "from itertools import groupby,islice"
   ]
  },
  {
   "cell_type": "code",
   "execution_count": 5,
   "metadata": {},
   "outputs": [],
   "source": [
    "filepath = 'Assignment2_dataset.txt'\n",
    "# fp = open(\"file\")\n",
    "# for i, line in enumerate(fp):\n",
    "with open(filepath) as f:\n",
    "    content = f.readlines()\n",
    "data = []\n",
    "sep = []\n",
    "a = 0\n",
    "# for line in content:\n",
    "for i, line in enumerate(content):\n",
    "    if re.match('W', line):\n",
    "        sep.append(i+a)\n",
    "        a = a-1\n",
    "        continue\n",
    "    d = []\n",
    "    for x in line.strip().split('\\t'):\n",
    "        d.append(float(x))\n",
    "    data.append(d)\n",
    "arr = np.asarray(data) \n",
    "\n",
    "w1 = arr[sep[0]:sep[1],:]\n",
    "w2 = arr[sep[1]:sep[2],:]\n",
    "w3 = arr[sep[2]:,:]\n",
    "# print(w1)              "
   ]
  },
  {
   "cell_type": "markdown",
   "metadata": {},
   "source": [
    "# 5.1, find u and sigma_square for w1 with one feature"
   ]
  },
  {
   "cell_type": "code",
   "execution_count": 6,
   "metadata": {},
   "outputs": [],
   "source": [
    "def u_mean(arr):\n",
    "    return sum(arr)/arr.size"
   ]
  },
  {
   "cell_type": "code",
   "execution_count": 7,
   "metadata": {},
   "outputs": [
    {
     "name": "stdout",
     "output_type": "stream",
     "text": [
      "-0.07089999999999998 -0.6047000000000001 -0.9109999999999999\n"
     ]
    }
   ],
   "source": [
    "w1_x1_u = u_mean(w1[:,0])\n",
    "w1_x2_u = u_mean(w1[:,1])\n",
    "w1_x3_u = u_mean(w1[:,2])\n",
    "print(w1_x1_u, w1_x2_u, w1_x3_u)"
   ]
  },
  {
   "cell_type": "code",
   "execution_count": 8,
   "metadata": {},
   "outputs": [],
   "source": [
    "def sigma_square(arr):\n",
    "    sum = 0\n",
    "    mean = u_mean(arr)\n",
    "    for num in arr:\n",
    "        sum += (num - mean)**2\n",
    "    return sum/arr.size"
   ]
  },
  {
   "cell_type": "code",
   "execution_count": 9,
   "metadata": {
    "scrolled": true
   },
   "outputs": [
    {
     "name": "stdout",
     "output_type": "stream",
     "text": [
      "0.9061772900000001 4.200714809999999 4.541949000000001\n"
     ]
    }
   ],
   "source": [
    "w1_x1_sigma_square = sigma_square(w1[:,0])\n",
    "w1_x2_sigma_square = sigma_square(w1[:,1])\n",
    "w1_x3_sigma_square = sigma_square(w1[:,2])\n",
    "print(w1_x1_sigma_square, w1_x2_sigma_square, w1_x3_sigma_square)"
   ]
  },
  {
   "cell_type": "markdown",
   "metadata": {},
   "source": [
    "# 5.2 find u and cov for w1 with two features\n",
    "\n",
    "Note: mean u1,u2,u3 are independent of cov, hence will have the same calculation and same result as the 1st question, so admit the results here\n"
   ]
  },
  {
   "cell_type": "code",
   "execution_count": 10,
   "metadata": {},
   "outputs": [
    {
     "name": "stdout",
     "output_type": "stream",
     "text": [
      "10\n"
     ]
    }
   ],
   "source": [
    "w1_x1x2 = w1[:,[0,1]]\n",
    "w1_x1x3 = w1[:,[0,2]]\n",
    "w1_x2x3 = w1[:,[1,2]]\n",
    "print(w1_x2x3.shape[0])   "
   ]
  },
  {
   "cell_type": "code",
   "execution_count": 11,
   "metadata": {},
   "outputs": [],
   "source": [
    "def u_array(arr):\n",
    "    u1 = 0\n",
    "    u2 = 0\n",
    "    size = arr.shape[0]\n",
    "    for item in arr:\n",
    "        u1 += item[0]\n",
    "        u2 += item[1]\n",
    "    return np.array([u1/size,u2/size])"
   ]
  },
  {
   "cell_type": "code",
   "execution_count": 12,
   "metadata": {},
   "outputs": [],
   "source": [
    "def cov(vector,u):\n",
    "    new_vec = np.subtract(vector,u)\n",
    "    vec= new_vec.reshape(-1,1)\n",
    "    matrix = vec*vec.T\n",
    "    return matrix\n",
    "\n",
    "def find_covs(arr,u):\n",
    "    dim = len(u)\n",
    "    #row size\n",
    "    size = arr.shape[0]\n",
    "    sum1 = np.zeros((dim,dim))\n",
    "    # print(a)\n",
    "    for vector in arr:\n",
    "        sum1 = np.add(sum1,cov(vector,u))\n",
    "    average = sum1/(size)\n",
    "    print(average)"
   ]
  },
  {
   "cell_type": "code",
   "execution_count": 20,
   "metadata": {},
   "outputs": [
    {
     "name": "stdout",
     "output_type": "stream",
     "text": [
      "[[0.90617729 0.56778177]\n",
      " [0.56778177 4.20071481]]\n"
     ]
    }
   ],
   "source": [
    "cov_w1_x1x2 = find_covs(w1_x1x2,u_array(w1_x1x2))"
   ]
  },
  {
   "cell_type": "code",
   "execution_count": 21,
   "metadata": {},
   "outputs": [
    {
     "name": "stdout",
     "output_type": "stream",
     "text": [
      "[-0.0709 -0.6047]\n"
     ]
    }
   ],
   "source": [
    "u_x1x2 = u_array(w1_x1x2)\n",
    "print(u_x1x2)"
   ]
  },
  {
   "cell_type": "code",
   "execution_count": 22,
   "metadata": {},
   "outputs": [
    {
     "name": "stdout",
     "output_type": "stream",
     "text": [
      "[[0.90617729 0.3940801 ]\n",
      " [0.3940801  4.541949  ]]\n"
     ]
    }
   ],
   "source": [
    "cov_w1_x1x3 = find_covs(w1_x1x3,u_array(w1_x1x3))"
   ]
  },
  {
   "cell_type": "code",
   "execution_count": 24,
   "metadata": {},
   "outputs": [
    {
     "name": "stdout",
     "output_type": "stream",
     "text": [
      "[-0.0709 -0.911 ]\n"
     ]
    }
   ],
   "source": [
    "u_x1x3 = u_array(w1_x1x3)\n",
    "print(u_x1x3)"
   ]
  },
  {
   "cell_type": "code",
   "execution_count": 23,
   "metadata": {},
   "outputs": [
    {
     "name": "stdout",
     "output_type": "stream",
     "text": [
      "[[4.20071481 0.7337023 ]\n",
      " [0.7337023  4.541949  ]]\n"
     ]
    }
   ],
   "source": [
    "cov_w1_x2x3 = find_covs(w1_x2x3,u_array(w1_x2x3))"
   ]
  },
  {
   "cell_type": "code",
   "execution_count": 25,
   "metadata": {},
   "outputs": [
    {
     "name": "stdout",
     "output_type": "stream",
     "text": [
      "[-0.6047 -0.911 ]\n"
     ]
    }
   ],
   "source": [
    "u_x2x3 = u_array(w1_x2x3)\n",
    "print(u_x2x3)"
   ]
  },
  {
   "cell_type": "markdown",
   "metadata": {},
   "source": [
    "# # 5.3 find u and cov for w1 with three features\n",
    "\n",
    "Note: mean u1,u2,u3 are independent of cov, hence will have the same calculation and same result as the 1st question, so admit the results here"
   ]
  },
  {
   "cell_type": "code",
   "execution_count": 16,
   "metadata": {},
   "outputs": [],
   "source": [
    "w1_x1x2x3 = w1[:,:]\n",
    "# print(w1_x1x2x3)"
   ]
  },
  {
   "cell_type": "code",
   "execution_count": 17,
   "metadata": {},
   "outputs": [],
   "source": [
    "def u_3d(arr):\n",
    "    u1 = 0\n",
    "    u2 = 0\n",
    "    u3 = 0\n",
    "    size = arr.shape[0]\n",
    "    for item in arr:\n",
    "        u1 += item[0]\n",
    "        u2 += item[1]\n",
    "        u3 += item[2]\n",
    "    return np.array([u1/size,u2/size,u3/size])"
   ]
  },
  {
   "cell_type": "code",
   "execution_count": 18,
   "metadata": {},
   "outputs": [
    {
     "name": "stdout",
     "output_type": "stream",
     "text": [
      "[-0.0709 -0.6047 -0.911 ]\n"
     ]
    }
   ],
   "source": [
    "print(u_3d(w1_x1x2x3))"
   ]
  },
  {
   "cell_type": "code",
   "execution_count": 19,
   "metadata": {},
   "outputs": [
    {
     "name": "stdout",
     "output_type": "stream",
     "text": [
      "[-0.0709 -0.6047 -0.911 ]\n"
     ]
    }
   ],
   "source": [
    "u = u_3d(w1_x1x2x3)\n",
    "print(u)"
   ]
  },
  {
   "cell_type": "code",
   "execution_count": 269,
   "metadata": {},
   "outputs": [
    {
     "name": "stdout",
     "output_type": "stream",
     "text": [
      "[[0.90617729 0.56778177 0.3940801 ]\n",
      " [0.56778177 4.20071481 0.7337023 ]\n",
      " [0.3940801  0.7337023  4.541949  ]]\n"
     ]
    }
   ],
   "source": [
    "cov_w1_x1x2x3 = find_covs(w1_x1x2x3,u_3d(w1_x1x2x3))"
   ]
  },
  {
   "cell_type": "markdown",
   "metadata": {},
   "source": [
    "# 5.4 find mean and diag of cov for w2"
   ]
  },
  {
   "cell_type": "code",
   "execution_count": 272,
   "metadata": {},
   "outputs": [
    {
     "name": "stdout",
     "output_type": "stream",
     "text": [
      "-0.11259999999999999 0.42989999999999995 0.003720000000000001\n"
     ]
    }
   ],
   "source": [
    "w2_x1_u = u_mean(w2[:,0])\n",
    "w2_x2_u = u_mean(w2[:,1])\n",
    "w2_x3_u = u_mean(w2[:,2])\n",
    "print(w2_x1_u, w2_x2_u, w2_x3_u)"
   ]
  },
  {
   "cell_type": "code",
   "execution_count": 274,
   "metadata": {},
   "outputs": [
    {
     "name": "stdout",
     "output_type": "stream",
     "text": [
      "0.05392584 0.04597009 0.0072655055999999996\n"
     ]
    }
   ],
   "source": [
    "w2_x1_sigma_square = sigma_square(w2[:,0])\n",
    "w2_x2_sigma_square = sigma_square(w2[:,1])\n",
    "w2_x3_sigma_square = sigma_square(w2[:,2])\n",
    "print(w2_x1_sigma_square, w2_x2_sigma_square, w2_x3_sigma_square)"
   ]
  },
  {
   "cell_type": "markdown",
   "metadata": {},
   "source": [
    "# 5.5\n",
    "since u is independent of cov or sigma square, (proofs are in pdf file, question 5), hence either 1 dimention or d dimention will have the same calculation to compute u, hence results are the same"
   ]
  },
  {
   "cell_type": "markdown",
   "metadata": {},
   "source": [
    "# 5.6\n",
    "in cov matrix, the diagonal elements are variance,since these elements are square of themselfs, have the same computation method as the variance computation. Hence the variance estimate is the same for all parts."
   ]
  },
  {
   "cell_type": "code",
   "execution_count": null,
   "metadata": {},
   "outputs": [],
   "source": []
  }
 ],
 "metadata": {
  "kernelspec": {
   "display_name": "Python 3",
   "language": "python",
   "name": "python3"
  },
  "language_info": {
   "codemirror_mode": {
    "name": "ipython",
    "version": 3
   },
   "file_extension": ".py",
   "mimetype": "text/x-python",
   "name": "python",
   "nbconvert_exporter": "python",
   "pygments_lexer": "ipython3",
   "version": "3.8.3"
  }
 },
 "nbformat": 4,
 "nbformat_minor": 4
}
